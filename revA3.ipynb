{
 "cells": [
  {
   "cell_type": "markdown",
   "id": "d851befd",
   "metadata": {},
   "source": [
    "# WPP to reverse a string.\n",
    "# Sample string : \"1234abcd\"\n",
    "# Expected output : \"dcba4321\""
   ]
  },
  {
   "cell_type": "code",
   "execution_count": 3,
   "id": "424834d6",
   "metadata": {},
   "outputs": [],
   "source": [
    "def rev():\n",
    "    m = input()\n",
    "    n = list(m)\n",
    "    n.reverse()\n",
    "    print(\"\". join(n))"
   ]
  },
  {
   "cell_type": "code",
   "execution_count": 4,
   "id": "98ba0348",
   "metadata": {},
   "outputs": [
    {
     "name": "stdout",
     "output_type": "stream",
     "text": [
      "1234abcd\n",
      "dcba4321\n"
     ]
    }
   ],
   "source": [
    "rev()"
   ]
  },
  {
   "cell_type": "code",
   "execution_count": null,
   "id": "20767f48",
   "metadata": {},
   "outputs": [],
   "source": []
  }
 ],
 "metadata": {
  "kernelspec": {
   "display_name": "Python 3 (ipykernel)",
   "language": "python",
   "name": "python3"
  },
  "language_info": {
   "codemirror_mode": {
    "name": "ipython",
    "version": 3
   },
   "file_extension": ".py",
   "mimetype": "text/x-python",
   "name": "python",
   "nbconvert_exporter": "python",
   "pygments_lexer": "ipython3",
   "version": "3.10.0"
  }
 },
 "nbformat": 4,
 "nbformat_minor": 5
}
